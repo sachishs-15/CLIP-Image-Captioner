{
 "cells": [
  {
   "cell_type": "code",
   "execution_count": null,
   "id": "7967e887",
   "metadata": {},
   "outputs": [
    {
     "name": "stdout",
     "output_type": "stream",
     "text": [
      "Using device: cuda\n",
      "Created sample dataset with 10 examples\n",
      "Initializing model...\n",
      "Training model...\n"
     ]
    },
    {
     "name": "stderr",
     "output_type": "stream",
     "text": [
      "Epoch 1/10:  50%|█████     | 1/2 [00:00<00:00,  6.47it/s, loss=0.679, accuracy=50]"
     ]
    },
    {
     "name": "stdout",
     "output_type": "stream",
     "text": [
      "The separator token is:  [SEP]\n",
      "The separator token is:  [SEP]\n",
      "The separator token is:  [SEP]\n",
      "The separator token is:  [SEP]\n",
      "The separator token is:  [SEP]\n",
      "The separator token is:  [SEP]\n",
      "The separator token is:  [SEP]\n"
     ]
    },
    {
     "name": "stderr",
     "output_type": "stream",
     "text": [
      "Epoch 1/10: 100%|██████████| 2/2 [00:00<00:00,  7.34it/s, loss=0.681, accuracy=57.1]\n"
     ]
    },
    {
     "name": "stdout",
     "output_type": "stream",
     "text": [
      "Epoch 1/10, Loss: 0.6814, Accuracy: 57.14%\n"
     ]
    },
    {
     "name": "stderr",
     "output_type": "stream",
     "text": [
      "Epoch 2/10:  50%|█████     | 1/2 [00:00<00:00,  6.53it/s, loss=0.655, accuracy=75]"
     ]
    },
    {
     "name": "stdout",
     "output_type": "stream",
     "text": [
      "The separator token is:  [SEP]\n",
      "The separator token is:  [SEP]\n",
      "The separator token is:  [SEP]\n",
      "The separator token is:  [SEP]\n",
      "The separator token is:  [SEP]\n",
      "The separator token is:  [SEP]\n",
      "The separator token is:  [SEP]\n"
     ]
    },
    {
     "name": "stderr",
     "output_type": "stream",
     "text": [
      "Epoch 2/10: 100%|██████████| 2/2 [00:00<00:00,  7.36it/s, loss=0.657, accuracy=71.4]\n"
     ]
    },
    {
     "name": "stdout",
     "output_type": "stream",
     "text": [
      "Epoch 2/10, Loss: 0.6572, Accuracy: 71.43%\n"
     ]
    },
    {
     "name": "stderr",
     "output_type": "stream",
     "text": [
      "Epoch 3/10:   0%|          | 0/2 [00:00<?, ?it/s]"
     ]
    },
    {
     "name": "stderr",
     "output_type": "stream",
     "text": [
      "Epoch 3/10:  50%|█████     | 1/2 [00:00<00:00,  6.68it/s, loss=0.612, accuracy=75]"
     ]
    },
    {
     "name": "stdout",
     "output_type": "stream",
     "text": [
      "The separator token is:  [SEP]\n",
      "The separator token is:  [SEP]\n",
      "The separator token is:  [SEP]\n",
      "The separator token is:  [SEP]\n",
      "The separator token is:  [SEP]\n",
      "The separator token is:  [SEP]\n",
      "The separator token is:  [SEP]\n"
     ]
    },
    {
     "name": "stderr",
     "output_type": "stream",
     "text": [
      "Epoch 3/10: 100%|██████████| 2/2 [00:00<00:00,  7.48it/s, loss=0.613, accuracy=71.4]\n"
     ]
    },
    {
     "name": "stdout",
     "output_type": "stream",
     "text": [
      "Epoch 3/10, Loss: 0.6130, Accuracy: 71.43%\n"
     ]
    },
    {
     "name": "stderr",
     "output_type": "stream",
     "text": [
      "Epoch 4/10:  50%|█████     | 1/2 [00:00<00:00,  6.67it/s, loss=0.584, accuracy=75]"
     ]
    },
    {
     "name": "stdout",
     "output_type": "stream",
     "text": [
      "The separator token is:  [SEP]\n",
      "The separator token is:  [SEP]\n",
      "The separator token is:  [SEP]\n",
      "The separator token is:  [SEP]\n",
      "The separator token is:  [SEP]\n",
      "The separator token is:  [SEP]\n",
      "The separator token is:  [SEP]\n"
     ]
    },
    {
     "name": "stderr",
     "output_type": "stream",
     "text": [
      "Epoch 4/10: 100%|██████████| 2/2 [00:00<00:00,  7.47it/s, loss=0.613, accuracy=71.4]\n"
     ]
    },
    {
     "name": "stdout",
     "output_type": "stream",
     "text": [
      "Epoch 4/10, Loss: 0.6132, Accuracy: 71.43%\n"
     ]
    },
    {
     "name": "stderr",
     "output_type": "stream",
     "text": [
      "Epoch 5/10:  50%|█████     | 1/2 [00:00<00:00,  6.70it/s, loss=0.474, accuracy=75]"
     ]
    },
    {
     "name": "stdout",
     "output_type": "stream",
     "text": [
      "The separator token is:  [SEP]\n",
      "The separator token is:  [SEP]\n",
      "The separator token is:  [SEP]\n",
      "The separator token is:  [SEP]\n",
      "The separator token is:  [SEP]\n",
      "The separator token is:  [SEP]\n",
      "The separator token is:  [SEP]\n"
     ]
    },
    {
     "name": "stderr",
     "output_type": "stream",
     "text": [
      "Epoch 5/10: 100%|██████████| 2/2 [00:00<00:00,  7.48it/s, loss=0.53, accuracy=71.4]\n"
     ]
    },
    {
     "name": "stdout",
     "output_type": "stream",
     "text": [
      "Epoch 5/10, Loss: 0.5303, Accuracy: 71.43%\n"
     ]
    },
    {
     "name": "stderr",
     "output_type": "stream",
     "text": [
      "Epoch 6/10:  50%|█████     | 1/2 [00:00<00:00,  6.70it/s, loss=0.6, accuracy=50]"
     ]
    },
    {
     "name": "stdout",
     "output_type": "stream",
     "text": [
      "The separator token is:  [SEP]\n",
      "The separator token is:  [SEP]\n",
      "The separator token is:  [SEP]\n",
      "The separator token is:  [SEP]\n",
      "The separator token is:  [SEP]\n",
      "The separator token is:  [SEP]\n",
      "The separator token is:  [SEP]\n"
     ]
    },
    {
     "name": "stderr",
     "output_type": "stream",
     "text": [
      "Epoch 6/10: 100%|██████████| 2/2 [00:00<00:00,  7.49it/s, loss=0.494, accuracy=71.4]\n"
     ]
    },
    {
     "name": "stdout",
     "output_type": "stream",
     "text": [
      "Epoch 6/10, Loss: 0.4937, Accuracy: 71.43%\n"
     ]
    },
    {
     "name": "stderr",
     "output_type": "stream",
     "text": [
      "Epoch 7/10:  50%|█████     | 1/2 [00:00<00:00,  6.70it/s, loss=0.421, accuracy=100]"
     ]
    },
    {
     "name": "stdout",
     "output_type": "stream",
     "text": [
      "The separator token is:  [SEP]\n",
      "The separator token is:  [SEP]\n",
      "The separator token is:  [SEP]\n",
      "The separator token is:  [SEP]\n",
      "The separator token is:  [SEP]\n",
      "The separator token is:  [SEP]\n",
      "The separator token is:  [SEP]\n"
     ]
    },
    {
     "name": "stderr",
     "output_type": "stream",
     "text": [
      "Epoch 7/10: 100%|██████████| 2/2 [00:00<00:00,  7.46it/s, loss=0.402, accuracy=100]\n"
     ]
    },
    {
     "name": "stdout",
     "output_type": "stream",
     "text": [
      "Epoch 7/10, Loss: 0.4020, Accuracy: 100.00%\n"
     ]
    },
    {
     "name": "stderr",
     "output_type": "stream",
     "text": [
      "Epoch 8/10:  50%|█████     | 1/2 [00:00<00:00,  6.78it/s, loss=0.5, accuracy=75]"
     ]
    },
    {
     "name": "stdout",
     "output_type": "stream",
     "text": [
      "The separator token is:  [SEP]\n",
      "The separator token is:  [SEP]\n",
      "The separator token is:  [SEP]\n",
      "The separator token is:  [SEP]\n",
      "The separator token is:  [SEP]\n",
      "The separator token is:  [SEP]\n",
      "The separator token is:  [SEP]\n"
     ]
    },
    {
     "name": "stderr",
     "output_type": "stream",
     "text": [
      "Epoch 8/10: 100%|██████████| 2/2 [00:00<00:00,  7.52it/s, loss=0.4, accuracy=85.7]\n"
     ]
    },
    {
     "name": "stdout",
     "output_type": "stream",
     "text": [
      "Epoch 8/10, Loss: 0.3997, Accuracy: 85.71%\n"
     ]
    },
    {
     "name": "stderr",
     "output_type": "stream",
     "text": [
      "Epoch 9/10:  50%|█████     | 1/2 [00:00<00:00,  6.71it/s, loss=0.392, accuracy=100]"
     ]
    },
    {
     "name": "stdout",
     "output_type": "stream",
     "text": [
      "The separator token is:  [SEP]\n",
      "The separator token is:  [SEP]\n",
      "The separator token is:  [SEP]\n",
      "The separator token is:  [SEP]\n",
      "The separator token is:  [SEP]\n",
      "The separator token is:  [SEP]\n",
      "The separator token is:  [SEP]\n"
     ]
    },
    {
     "name": "stderr",
     "output_type": "stream",
     "text": [
      "Epoch 9/10: 100%|██████████| 2/2 [00:00<00:00,  7.46it/s, loss=0.34, accuracy=100] \n"
     ]
    },
    {
     "name": "stdout",
     "output_type": "stream",
     "text": [
      "Epoch 9/10, Loss: 0.3398, Accuracy: 100.00%\n"
     ]
    },
    {
     "name": "stderr",
     "output_type": "stream",
     "text": [
      "Epoch 10/10:  50%|█████     | 1/2 [00:00<00:00,  6.73it/s, loss=0.265, accuracy=100]"
     ]
    },
    {
     "name": "stdout",
     "output_type": "stream",
     "text": [
      "The separator token is:  [SEP]\n",
      "The separator token is:  [SEP]\n",
      "The separator token is:  [SEP]\n",
      "The separator token is:  [SEP]\n",
      "The separator token is:  [SEP]\n",
      "The separator token is:  [SEP]\n",
      "The separator token is:  [SEP]\n"
     ]
    },
    {
     "name": "stderr",
     "output_type": "stream",
     "text": [
      "Epoch 10/10: 100%|██████████| 2/2 [00:00<00:00,  7.49it/s, loss=0.295, accuracy=100]\n"
     ]
    },
    {
     "name": "stdout",
     "output_type": "stream",
     "text": [
      "Epoch 10/10, Loss: 0.2948, Accuracy: 100.00%\n",
      "Evaluating model...\n"
     ]
    },
    {
     "name": "stderr",
     "output_type": "stream",
     "text": [
      "Evaluating: 100%|██████████| 1/1 [00:00<00:00, 31.66it/s]\n",
      "/home/radahn/miniconda3/envs/try/lib/python3.10/site-packages/sklearn/metrics/_classification.py:1565: UndefinedMetricWarning: Recall is ill-defined and being set to 0.0 in labels with no true samples. Use `zero_division` parameter to control this behavior.\n",
      "  _warn_prf(average, modifier, f\"{metric.capitalize()} is\", len(result))\n",
      "/home/radahn/miniconda3/envs/try/lib/python3.10/site-packages/sklearn/metrics/_classification.py:1565: UndefinedMetricWarning: Recall is ill-defined and being set to 0.0 in labels with no true samples. Use `zero_division` parameter to control this behavior.\n",
      "  _warn_prf(average, modifier, f\"{metric.capitalize()} is\", len(result))\n",
      "/home/radahn/miniconda3/envs/try/lib/python3.10/site-packages/sklearn/metrics/_classification.py:1565: UndefinedMetricWarning: Recall is ill-defined and being set to 0.0 in labels with no true samples. Use `zero_division` parameter to control this behavior.\n",
      "  _warn_prf(average, modifier, f\"{metric.capitalize()} is\", len(result))\n",
      "/home/radahn/miniconda3/envs/try/lib/python3.10/site-packages/sklearn/metrics/_classification.py:1565: UndefinedMetricWarning: Recall is ill-defined and being set to 0.0 in labels with no true samples. Use `zero_division` parameter to control this behavior.\n",
      "  _warn_prf(average, modifier, f\"{metric.capitalize()} is\", len(result))\n"
     ]
    },
    {
     "name": "stdout",
     "output_type": "stream",
     "text": [
      "The separator token is:  [SEP]\n",
      "The separator token is:  [SEP]\n",
      "The separator token is:  [SEP]\n",
      "              precision    recall  f1-score   support\n",
      "\n",
      "     SmolVLM       0.00      0.00      0.00         0\n",
      "Custom Model       1.00      0.33      0.50         3\n",
      "\n",
      "    accuracy                           0.33         3\n",
      "   macro avg       0.50      0.17      0.25         3\n",
      "weighted avg       1.00      0.33      0.50         3\n",
      "\n"
     ]
    },
    {
     "data": {
      "image/png": "[encoded data removed]",
      "text/plain": [
       "<Figure size 800x600 with 2 Axes>"
      ]
     },
     "metadata": {},
     "output_type": "display_data"
    },
    {
     "name": "stdout",
     "output_type": "stream",
     "text": [
      "\n",
      "Test Results:\n",
      "Precision: 0.5000\n",
      "Recall: 0.1667\n",
      "F1 Score: 0.2500\n"
     ]
    }
   ],
   "source": [
    "import torch\n",
    "import torch.nn as nn\n",
    "import torch.optim as optim\n",
    "from torch.utils.data import Dataset, DataLoader, random_split\n",
    "from transformers import BertTokenizer, BertModel\n",
    "import pandas as pd\n",
    "import numpy as np\n",
    "from sklearn.metrics import precision_recall_fscore_support, classification_report, confusion_matrix\n",
    "import matplotlib.pyplot as plt\n",
    "import seaborn as sns\n",
    "from tqdm import tqdm\n",
    "import random\n",
    "import json\n",
    "\n",
    "# Set random seeds for reproducibility\n",
    "random.seed(42)\n",
    "np.random.seed(42)\n",
    "torch.manual_seed(42)\n",
    "if torch.cuda.is_available():\n",
    "    torch.cuda.manual_seed_all(42)\n",
    "\n",
    "# Set device\n",
    "device = torch.device('cuda' if torch.cuda.is_available() else 'cpu')\n",
    "print(f\"Using device: {device}\")\n",
    "\n",
    "# Create a sample dataset for testing\n",
    "def create_sample_dataset():\n",
    "    \"\"\"\n",
    "    Create a small sample dataset with 10 datapoints for testing the model.\n",
    "    Format: <original_caption> <SEP> <generated_caption> <SEP> <perturbation_percentage>\n",
    "    \n",
    "    Returns:\n",
    "        list: List of dictionaries containing sample data.\n",
    "    \"\"\"\n",
    "    sample_data = [\n",
    "        {\n",
    "            \"original_caption\": \"A person riding a bicycle down a street\",\n",
    "            \"generated_caption\": \"A man cycling on a road near buildings\",\n",
    "            \"perturbation_percentage\": 10,\n",
    "            \"label\": 0  # SmolVLM\n",
    "        },\n",
    "        {\n",
    "            \"original_caption\": \"A dog playing in the park with a ball\",\n",
    "            \"generated_caption\": \"A brown dog fetching a red ball in a grassy area\",\n",
    "            \"perturbation_percentage\": 10,\n",
    "            \"label\": 1  # Custom Model\n",
    "        },\n",
    "        {\n",
    "            \"original_caption\": \"A tall building with many windows\",\n",
    "            \"generated_caption\": \"A skyscraper with glass windows reflecting the sky\",\n",
    "            \"perturbation_percentage\": 50,\n",
    "            \"label\": 0  # SmolVLM\n",
    "        },\n",
    "        {\n",
    "            \"original_caption\": \"Children playing in a playground\",\n",
    "            \"generated_caption\": \"Kids having fun on playground equipment at a park\",\n",
    "            \"perturbation_percentage\": 10,\n",
    "            \"label\": 1  # Custom Model\n",
    "        },\n",
    "        {\n",
    "            \"original_caption\": \"A sunset over the ocean with boats\",\n",
    "            \"generated_caption\": \"Boats on water during sunset with orange sky\",\n",
    "            \"perturbation_percentage\": 50,\n",
    "            \"label\": 0  # SmolVLM\n",
    "        },\n",
    "        {\n",
    "            \"original_caption\": \"A cat sleeping on a windowsill\",\n",
    "            \"generated_caption\": \"A gray cat napping on the edge of a window\",\n",
    "            \"perturbation_percentage\": 80,\n",
    "            \"label\": 1  # Custom Model\n",
    "        },\n",
    "        {\n",
    "            \"original_caption\": \"A woman holding a cup of coffee\",\n",
    "            \"generated_caption\": \"Female with a coffee mug in her hand\",\n",
    "            \"perturbation_percentage\": 10,\n",
    "            \"label\": 0  # SmolVLM\n",
    "        },\n",
    "        {\n",
    "            \"original_caption\": \"A car parked on the side of the road\",\n",
    "            \"generated_caption\": \"A vehicle stopped at the side of a street\",\n",
    "            \"perturbation_percentage\": 80,\n",
    "            \"label\": 1  # Custom Model\n",
    "        },\n",
    "        {\n",
    "            \"original_caption\": \"Mountains with snow on the peaks\",\n",
    "            \"generated_caption\": \"Snow-covered mountain tops against a blue sky\",\n",
    "            \"perturbation_percentage\": 50,\n",
    "            \"label\": 0  # SmolVLM\n",
    "        },\n",
    "        {\n",
    "            \"original_caption\": \"A flower blooming in a garden\",\n",
    "            \"generated_caption\": \"A colorful flower with petals open in a green garden\",\n",
    "            \"perturbation_percentage\": 10,\n",
    "            \"label\": 1  # Custom Model\n",
    "        }\n",
    "    ]\n",
    "    \n",
    "    return sample_data\n",
    "\n",
    "# Define the BERT-based classifier model\n",
    "class CaptionClassifier(nn.Module):\n",
    "    \"\"\"\n",
    "    BERT-based classifier for identifying which model generated a caption.\n",
    "    \n",
    "    The model uses a pre-trained BERT model as the encoder and adds custom\n",
    "    linear layers for binary classification.\n",
    "    \"\"\"\n",
    "    def __init__(self, bert_model_name=\"bert-base-uncased\", dropout_rate=0.1):\n",
    "        super(CaptionClassifier, self).__init__()\n",
    "        \n",
    "        # Load pre-trained BERT model\n",
    "        self.bert = BertModel.from_pretrained(bert_model_name)\n",
    "        \n",
    "        # BERT output dimension (768 for bert-base-uncased)\n",
    "        bert_hidden_size = self.bert.config.hidden_size\n",
    "        \n",
    "        # Custom classification layers\n",
    "        self.dropout = nn.Dropout(dropout_rate)\n",
    "        self.classifier = nn.Sequential(\n",
    "            nn.Linear(bert_hidden_size, 256),\n",
    "            nn.ReLU(),\n",
    "            nn.Dropout(dropout_rate),\n",
    "            nn.Linear(256, 2),\n",
    "            nn.Softmax(dim=1)  # Added softmax for probability output\n",
    "        )\n",
    "    \n",
    "    def forward(self, input_ids, attention_mask, token_type_ids=None):\n",
    "        \"\"\"\n",
    "        Forward pass of the model.\n",
    "        \n",
    "        Args:\n",
    "            input_ids (torch.Tensor): Tokenized input IDs.\n",
    "            attention_mask (torch.Tensor): Attention mask to avoid attending to padding tokens.\n",
    "            token_type_ids (torch.Tensor, optional): Token type IDs for segment embeddings.\n",
    "            \n",
    "        Returns:\n",
    "            torch.Tensor: Probability distribution after softmax.\n",
    "        \"\"\"\n",
    "        # Get BERT outputs\n",
    "        outputs = self.bert(\n",
    "            input_ids=input_ids,\n",
    "            attention_mask=attention_mask,\n",
    "            token_type_ids=token_type_ids\n",
    "        )\n",
    "        \n",
    "        # Use the [CLS] token representation (first token)\n",
    "        pooled_output = outputs.pooler_output\n",
    "        pooled_output = self.dropout(pooled_output)\n",
    "        \n",
    "        # Pass through classification layers with softmax already applied\n",
    "        probs = self.classifier(pooled_output)\n",
    "        \n",
    "        return probs\n",
    "\n",
    "# Custom dataset for caption classifier\n",
    "class CaptionDataset(Dataset):\n",
    "    \"\"\"\n",
    "    Custom dataset for the caption classifier.\n",
    "    \n",
    "    Each sample contains:\n",
    "    - Input text: <original_caption> <SEP> <generated_caption> <SEP> <perturbation_percentage>\n",
    "    - Label: One-hot encoded [1,0] for SmolVLM, [0,1] for Custom Model\n",
    "    \"\"\"\n",
    "    def __init__(self, captions_data, tokenizer, max_length=512):\n",
    "        \"\"\"\n",
    "        Initialize the dataset.\n",
    "        \n",
    "        Args:\n",
    "            captions_data (list): List of dictionaries containing caption data.\n",
    "            tokenizer: BERT tokenizer.\n",
    "            max_length (int): Maximum sequence length for tokenization.\n",
    "        \"\"\"\n",
    "        self.captions_data = captions_data\n",
    "        self.tokenizer = tokenizer\n",
    "        self.max_length = max_length\n",
    "    \n",
    "    def __len__(self):\n",
    "        return len(self.captions_data)\n",
    "    \n",
    "    def __getitem__(self, idx):\n",
    "        data_item = self.captions_data[idx]\n",
    "        \n",
    "        # Get the text parts\n",
    "        original_caption = data_item['original_caption']\n",
    "        generated_caption = data_item['generated_caption']\n",
    "        perturbation = str(data_item['perturbation_percentage'])\n",
    "        \n",
    "        # Combine with proper SEP tokens\n",
    "        input_text = original_caption + \" \" + self.tokenizer.sep_token + \" \" + \\\n",
    "                     generated_caption + \" \" + self.tokenizer.sep_token + \" \" + \\\n",
    "                     perturbation\n",
    "        \n",
    "        # Tokenize the combined text\n",
    "        encoding = self.tokenizer(\n",
    "            input_text,\n",
    "            add_special_tokens=True,\n",
    "            max_length=self.max_length,\n",
    "            padding='max_length',\n",
    "            truncation=True,\n",
    "            return_tensors='pt'\n",
    "        )\n",
    "        \n",
    "        # Get the label and convert to one-hot encoding\n",
    "        label_idx = data_item['label']\n",
    "        if label_idx == 0:  # SmolVLM\n",
    "            label = torch.tensor([1.0, 0.0], dtype=torch.float)\n",
    "        else:  # Custom Model\n",
    "            label = torch.tensor([0.0, 1.0], dtype=torch.float)\n",
    "        \n",
    "        return {\n",
    "            'input_ids': encoding['input_ids'].squeeze(),\n",
    "            'attention_mask': encoding['attention_mask'].squeeze(),\n",
    "            'token_type_ids': encoding['token_type_ids'].squeeze(),\n",
    "            'label': label\n",
    "        }\n",
    "\n",
    "def train_classifier(model, dataloader, optimizer, criterion, device, epochs=5):\n",
    "    \"\"\"\n",
    "    Train the BERT-based caption classifier.\n",
    "    \n",
    "    Args:\n",
    "        model (nn.Module): BERT-based classifier model.\n",
    "        dataloader (DataLoader): Training data loader.\n",
    "        optimizer: Optimizer (e.g., Adam).\n",
    "        criterion (Loss): Loss function.\n",
    "        device (str): Device to use ('cuda' or 'cpu').\n",
    "        epochs (int): Number of epochs.\n",
    "    \"\"\"\n",
    "    model.train()\n",
    "    \n",
    "    for epoch in range(epochs):\n",
    "        total_loss = 0\n",
    "        correct = 0\n",
    "        total = 0\n",
    "        \n",
    "        progress_bar = tqdm(dataloader, desc=f'Epoch {epoch+1}/{epochs}')\n",
    "        \n",
    "        for batch in progress_bar:\n",
    "            # Get inputs\n",
    "            input_ids = batch['input_ids'].to(device)\n",
    "            attention_mask = batch['attention_mask'].to(device)\n",
    "            token_type_ids = batch['token_type_ids'].to(device)\n",
    "            labels = batch['label'].to(device)\n",
    "            \n",
    "            # Zero gradients\n",
    "            optimizer.zero_grad()\n",
    "            \n",
    "            # Forward pass\n",
    "            outputs = model(input_ids, attention_mask, token_type_ids)\n",
    "            \n",
    "            # Calculate loss\n",
    "            loss = criterion(outputs, labels)\n",
    "            \n",
    "            # Backward pass and optimize\n",
    "            loss.backward()\n",
    "            optimizer.step()\n",
    "            \n",
    "            # Track metrics\n",
    "            total_loss += loss.item()\n",
    "            \n",
    "            # Calculate accuracy (using argmax for both prediction and label)\n",
    "            pred_classes = torch.argmax(outputs, dim=1)\n",
    "            true_classes = torch.argmax(labels, dim=1)\n",
    "            total += labels.size(0)\n",
    "            correct += (pred_classes == true_classes).sum().item()\n",
    "            \n",
    "            # Update progress bar\n",
    "            progress_bar.set_postfix({\n",
    "                'loss': total_loss / (progress_bar.n + 1),\n",
    "                'accuracy': 100 * correct / total\n",
    "            })\n",
    "        \n",
    "        # Print epoch results\n",
    "        print(f'Epoch {epoch+1}/{epochs}, Loss: {total_loss/len(dataloader):.4f}, Accuracy: {100*correct/total:.2f}%')\n",
    "\n",
    "def evaluate_classifier(model, dataloader, device):\n",
    "    \"\"\"\n",
    "    Evaluate the classification model.\n",
    "    \n",
    "    Args:\n",
    "        model (nn.Module): Trained model.\n",
    "        dataloader (DataLoader): Test data loader.\n",
    "        device (str): 'cuda' or 'cpu'.\n",
    "        \n",
    "    Returns:\n",
    "        dict: Precision, Recall and F1 scores for the test set.\n",
    "    \"\"\"\n",
    "    model.eval()\n",
    "    \n",
    "    all_preds = []\n",
    "    all_labels = []\n",
    "    \n",
    "    with torch.no_grad():\n",
    "        for batch in tqdm(dataloader, desc='Evaluating'):\n",
    "            # Get inputs\n",
    "            input_ids = batch['input_ids'].to(device)\n",
    "            attention_mask = batch['attention_mask'].to(device)\n",
    "            token_type_ids = batch['token_type_ids'].to(device)\n",
    "            labels = batch['label'].to(device)\n",
    "            \n",
    "            # Forward pass\n",
    "            outputs = model(input_ids, attention_mask, token_type_ids)\n",
    "            \n",
    "            # Get predictions and true labels as class indices\n",
    "            pred_classes = torch.argmax(outputs, dim=1)\n",
    "            true_classes = torch.argmax(labels, dim=1)\n",
    "            \n",
    "            # Store predictions and labels\n",
    "            all_preds.extend(pred_classes.cpu().numpy())\n",
    "            all_labels.extend(true_classes.cpu().numpy())\n",
    "    \n",
    "    # Calculate metrics\n",
    "    precision, recall, f1, _ = precision_recall_fscore_support(all_labels, all_preds, average='macro')\n",
    "    \n",
    "    # Prepare results\n",
    "    results = {\n",
    "        'precision': precision,\n",
    "        'recall': recall,\n",
    "        'f1': f1\n",
    "    }\n",
    "    \n",
    "    # Print classification report\n",
    "    print(classification_report(all_labels, all_preds, target_names=['SmolVLM', 'Custom Model']))\n",
    "    \n",
    "    # Create confusion matrix\n",
    "    cm = confusion_matrix(all_labels, all_preds)\n",
    "    plt.figure(figsize=(8, 6))\n",
    "    sns.heatmap(cm, annot=True, fmt='d', cmap='Blues', \n",
    "                xticklabels=['SmolVLM', 'Custom Model'], \n",
    "                yticklabels=['SmolVLM', 'Custom Model'])\n",
    "    plt.xlabel('Predicted')\n",
    "    plt.ylabel('True')\n",
    "    plt.title('Confusion Matrix')\n",
    "    plt.tight_layout()\n",
    "    plt.show()\n",
    "    \n",
    "    return results\n",
    "\n",
    "def main():\n",
    "    \"\"\"\n",
    "    Main function to train and evaluate the caption classifier.\n",
    "    \"\"\"\n",
    "    # Load BERT tokenizer\n",
    "    tokenizer = BertTokenizer.from_pretrained('bert-base-uncased')\n",
    "    \n",
    "    # Create sample dataset\n",
    "    sample_data = create_sample_dataset()\n",
    "    print(f\"Created sample dataset with {len(sample_data)} examples\")\n",
    "    \n",
    "    # Create dataset\n",
    "    dataset = CaptionDataset(sample_data, tokenizer)\n",
    "    \n",
    "    # Split dataset into train and test sets (70:30)\n",
    "    train_size = int(0.7 * len(dataset))\n",
    "    test_size = len(dataset) - train_size\n",
    "    train_dataset, test_dataset = random_split(\n",
    "        dataset, \n",
    "        [train_size, test_size],\n",
    "        generator=torch.Generator().manual_seed(42)\n",
    "    )\n",
    "    \n",
    "    # Create data loaders\n",
    "    batch_size = 4  # Small batch size for the sample dataset\n",
    "    train_loader = DataLoader(train_dataset, batch_size=batch_size, shuffle=True)\n",
    "    test_loader = DataLoader(test_dataset, batch_size=batch_size)\n",
    "    \n",
    "    # Initialize model\n",
    "    print(\"Initializing model...\")\n",
    "    model = CaptionClassifier().to(device)\n",
    "    \n",
    "    # Define optimizer and loss function - using BCE loss for one-hot encoded labels\n",
    "    optimizer = optim.AdamW(model.parameters(), lr=2e-5)\n",
    "    criterion = nn.BCELoss()  # Binary Cross Entropy for one-hot labels\n",
    "    \n",
    "    # Train the model\n",
    "    print(\"Training model...\")\n",
    "    train_classifier(model, train_loader, optimizer, criterion, device, epochs=10)\n",
    "    \n",
    "    # Evaluate on test set\n",
    "    print(\"Evaluating model...\")\n",
    "    results = evaluate_classifier(model, test_loader, device)\n",
    "    \n",
    "    # Print results\n",
    "    print(\"\\nTest Results:\")\n",
    "    print(f\"Precision: {results['precision']:.4f}\")\n",
    "    print(f\"Recall: {results['recall']:.4f}\")\n",
    "    print(f\"F1 Score: {results['f1']:.4f}\")\n",
    "\n",
    "if __name__ == \"__main__\":\n",
    "    main()"
   ]
  },
  {
   "cell_type": "code",
   "execution_count": null,
   "id": "a880e501",
   "metadata": {},
   "outputs": [],
   "source": []
  }
 ],
 "metadata": {
  "kernelspec": {
   "display_name": "try",
   "language": "python",
   "name": "python3"
  },
  "language_info": {
   "codemirror_mode": {
    "name": "ipython",
    "version": 3
   },
   "file_extension": ".py",
   "mimetype": "text/x-python",
   "name": "python",
   "nbconvert_exporter": "python",
   "pygments_lexer": "ipython3",
   "version": "3.10.16"
  }
 },
 "nbformat": 4,
 "nbformat_minor": 5
}
